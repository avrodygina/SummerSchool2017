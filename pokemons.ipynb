{
 "cells": [
  {
   "cell_type": "markdown",
   "metadata": {},
   "source": [
    "# Вступительное задание. ЛШ-2017"
   ]
  },
  {
   "cell_type": "code",
   "execution_count": 1,
   "metadata": {
    "collapsed": true
   },
   "outputs": [],
   "source": [
    "import pandas as pd\n",
    "import numpy as np\n",
    "import seaborn as sns\n",
    "from matplotlib import pyplot as plt\n",
    "%matplotlib inline"
   ]
  },
  {
   "cell_type": "code",
   "execution_count": 2,
   "metadata": {
    "collapsed": false
   },
   "outputs": [],
   "source": [
    "abilities = pd.read_csv('abilities.csv')\n",
    "eggs = pd.read_csv('egg_groups.csv')\n",
    "pokemons = pd.read_csv('pokemon.csv')"
   ]
  },
  {
   "cell_type": "markdown",
   "metadata": {},
   "source": [
    "### Посмотрим, что вообще содержится в данных"
   ]
  },
  {
   "cell_type": "code",
   "execution_count": 3,
   "metadata": {
    "collapsed": false
   },
   "outputs": [
    {
     "data": {
      "text/plain": [
       "Index(['id', 'identifier', 'name', 'name_phonetic', 'species', 'name_jp',\n",
       "       'name_jp_romaji', 'species_jp', 'generation_id', 'ndex', 'kdex', 'jdex',\n",
       "       'jdex_old', 'hdex', 'sdex', 'udex', 'type1_id', 'type2_id',\n",
       "       'ability1_id', 'ability2_id', 'abilitydream_id',\n",
       "       'evolution_parent_pokemon_id', 'evolution_method_id',\n",
       "       'evolution_parameter', 'height', 'weight', 'gender_rate', 'catch_rate',\n",
       "       'exp_yield', 'base_happiness', 'egg_group1_id', 'egg_group2_id',\n",
       "       'is_baby', 'baby_breed_item_id', 'hatch_counter', 'lvl_100_exp',\n",
       "       'pokemon_order', 'legacy_id'],\n",
       "      dtype='object')"
      ]
     },
     "execution_count": 3,
     "metadata": {},
     "output_type": "execute_result"
    }
   ],
   "source": [
    "pokemons.columns"
   ]
  },
  {
   "cell_type": "code",
   "execution_count": 4,
   "metadata": {
    "collapsed": false
   },
   "outputs": [
    {
     "data": {
      "text/plain": [
       "38"
      ]
     },
     "execution_count": 4,
     "metadata": {},
     "output_type": "execute_result"
    }
   ],
   "source": [
    "len(pokemons.columns)"
   ]
  },
  {
   "cell_type": "markdown",
   "metadata": {},
   "source": [
    "### По приколу нашла Пикачу, хы"
   ]
  },
  {
   "cell_type": "code",
   "execution_count": 5,
   "metadata": {
    "collapsed": false,
    "scrolled": true
   },
   "outputs": [
    {
     "data": {
      "text/html": [
       "<div>\n",
       "<table border=\"1\" class=\"dataframe\">\n",
       "  <thead>\n",
       "    <tr style=\"text-align: right;\">\n",
       "      <th></th>\n",
       "      <th>id</th>\n",
       "      <th>identifier</th>\n",
       "      <th>name</th>\n",
       "      <th>name_phonetic</th>\n",
       "      <th>species</th>\n",
       "      <th>name_jp</th>\n",
       "      <th>name_jp_romaji</th>\n",
       "      <th>species_jp</th>\n",
       "      <th>generation_id</th>\n",
       "      <th>ndex</th>\n",
       "      <th>...</th>\n",
       "      <th>exp_yield</th>\n",
       "      <th>base_happiness</th>\n",
       "      <th>egg_group1_id</th>\n",
       "      <th>egg_group2_id</th>\n",
       "      <th>is_baby</th>\n",
       "      <th>baby_breed_item_id</th>\n",
       "      <th>hatch_counter</th>\n",
       "      <th>lvl_100_exp</th>\n",
       "      <th>pokemon_order</th>\n",
       "      <th>legacy_id</th>\n",
       "    </tr>\n",
       "  </thead>\n",
       "  <tbody>\n",
       "    <tr>\n",
       "      <th>24</th>\n",
       "      <td>25</td>\n",
       "      <td>pikachu</td>\n",
       "      <td>Pikachu</td>\n",
       "      <td>Peekachoo</td>\n",
       "      <td>Mouse</td>\n",
       "      <td>ピカチュウ</td>\n",
       "      <td>Pikachu</td>\n",
       "      <td>ねずみ</td>\n",
       "      <td>1</td>\n",
       "      <td>25</td>\n",
       "      <td>...</td>\n",
       "      <td>82</td>\n",
       "      <td>70</td>\n",
       "      <td>5</td>\n",
       "      <td>6.0</td>\n",
       "      <td>0</td>\n",
       "      <td>NaN</td>\n",
       "      <td>10</td>\n",
       "      <td>1000000</td>\n",
       "      <td>26</td>\n",
       "      <td>25.0</td>\n",
       "    </tr>\n",
       "  </tbody>\n",
       "</table>\n",
       "<p>1 rows × 38 columns</p>\n",
       "</div>"
      ],
      "text/plain": [
       "    id identifier     name name_phonetic species name_jp name_jp_romaji  \\\n",
       "24  25    pikachu  Pikachu     Peekachoo   Mouse   ピカチュウ        Pikachu   \n",
       "\n",
       "   species_jp  generation_id  ndex    ...      exp_yield  base_happiness  \\\n",
       "24        ねずみ              1    25    ...             82              70   \n",
       "\n",
       "    egg_group1_id  egg_group2_id  is_baby  baby_breed_item_id  hatch_counter  \\\n",
       "24              5            6.0        0                 NaN             10   \n",
       "\n",
       "    lvl_100_exp  pokemon_order  legacy_id  \n",
       "24      1000000             26       25.0  \n",
       "\n",
       "[1 rows x 38 columns]"
      ]
     },
     "execution_count": 5,
     "metadata": {},
     "output_type": "execute_result"
    }
   ],
   "source": [
    "pokemons[pokemons['name'] == 'Pikachu']"
   ]
  },
  {
   "cell_type": "markdown",
   "metadata": {},
   "source": [
    "![Image of Yaktocat](https://img.pokemondb.net/artwork/pikachu.jpg)"
   ]
  },
  {
   "cell_type": "markdown",
   "metadata": {},
   "source": [
    "### Посчитаем количество видов покемонов"
   ]
  },
  {
   "cell_type": "code",
   "execution_count": 6,
   "metadata": {
    "collapsed": false,
    "scrolled": true
   },
   "outputs": [
    {
     "name": "stdout",
     "output_type": "stream",
     "text": [
      "Существует 475 видов покемонов\n"
     ]
    }
   ],
   "source": [
    "alf = [chr(x) for x in range(ord('A'), ord('Z')+1)] #создаем список из букв английского алфавита\n",
    "lst = list(pokemons.species.sort_values())\n",
    "number_of_species = len(set(lst))\n",
    "print ('Существует', number_of_species, 'видов покемонов')"
   ]
  },
  {
   "cell_type": "markdown",
   "metadata": {},
   "source": [
    "### А теперь найдем самую популярную и непопулярную первую букву имени среди покемонов "
   ]
  },
  {
   "cell_type": "code",
   "execution_count": 7,
   "metadata": {
    "collapsed": false,
    "scrolled": true
   },
   "outputs": [
    {
     "name": "stdout",
     "output_type": "stream",
     "text": [
      "Количество имен, начинающихся на конкретную букву\n",
      "A : 28\n",
      "B : 34\n",
      "C : 50\n",
      "D : 39\n",
      "E : 20\n",
      "F : 17\n",
      "G : 43\n",
      "H : 23\n",
      "I : 4\n",
      "J : 7\n",
      "K : 22\n",
      "L : 33\n",
      "M : 58\n",
      "N : 14\n",
      "O : 6\n",
      "P : 43\n",
      "Q : 3\n",
      "R : 30\n",
      "S : 95\n",
      "T : 33\n",
      "U : 5\n",
      "V : 20\n",
      "W : 23\n",
      "X : 1\n",
      "Y : 3\n",
      "Z : 9\n"
     ]
    }
   ],
   "source": [
    "# можно как-то сделать через словарь, но надо подумать еще\n",
    "list_of_names = list(pokemons.name.sort_values())\n",
    "i = 0\n",
    "lst = list()\n",
    "number_of_certain_names = list()\n",
    "\n",
    "print ('Количество имен, начинающихся на конкретную букву')\n",
    "\n",
    "for letter in alf:\n",
    "    for name in list_of_names:\n",
    "        if name[0] == letter:\n",
    "            lst.append(name)\n",
    "    amount = len(lst)\n",
    "    number_of_certain_names.append(amount)\n",
    "    print(letter, ':', amount)\n",
    "    lst = list()\n",
    "    \n",
    "nmax = max(number_of_certain_names)\n",
    "nmin = min(number_of_certain_names)\n",
    "\n",
    "indmax = number_of_certain_names.index(nmax)\n",
    "indmin = number_of_certain_names.index(nmin)"
   ]
  },
  {
   "cell_type": "code",
   "execution_count": 8,
   "metadata": {
    "collapsed": false,
    "scrolled": true
   },
   "outputs": [
    {
     "name": "stdout",
     "output_type": "stream",
     "text": [
      "Чаще всего имя покемона начинается с буквы  S : 95 раз\n",
      "Реже всего имя покемона начинается с буквы  X : 1 раз\n"
     ]
    }
   ],
   "source": [
    "print('Чаще всего имя покемона начинается с буквы ', alf[indmax], ':', nmax, 'раз')\n",
    "print('Реже всего имя покемона начинается с буквы ', alf[indmin], ':', nmin, 'раз')"
   ]
  },
  {
   "cell_type": "markdown",
   "metadata": {},
   "source": [
    "### Кто же этот единственный покемончик?"
   ]
  },
  {
   "cell_type": "code",
   "execution_count": 9,
   "metadata": {
    "collapsed": false
   },
   "outputs": [
    {
     "name": "stdout",
     "output_type": "stream",
     "text": [
      "Xatu\n"
     ]
    }
   ],
   "source": [
    "for name in list_of_names:\n",
    "    if name[0] == 'X':\n",
    "        print (name)"
   ]
  },
  {
   "cell_type": "code",
   "execution_count": 10,
   "metadata": {
    "collapsed": false
   },
   "outputs": [
    {
     "data": {
      "text/html": [
       "<div>\n",
       "<table border=\"1\" class=\"dataframe\">\n",
       "  <thead>\n",
       "    <tr style=\"text-align: right;\">\n",
       "      <th></th>\n",
       "      <th>id</th>\n",
       "      <th>identifier</th>\n",
       "      <th>name</th>\n",
       "      <th>name_phonetic</th>\n",
       "      <th>species</th>\n",
       "      <th>name_jp</th>\n",
       "      <th>name_jp_romaji</th>\n",
       "      <th>species_jp</th>\n",
       "      <th>generation_id</th>\n",
       "      <th>ndex</th>\n",
       "      <th>...</th>\n",
       "      <th>exp_yield</th>\n",
       "      <th>base_happiness</th>\n",
       "      <th>egg_group1_id</th>\n",
       "      <th>egg_group2_id</th>\n",
       "      <th>is_baby</th>\n",
       "      <th>baby_breed_item_id</th>\n",
       "      <th>hatch_counter</th>\n",
       "      <th>lvl_100_exp</th>\n",
       "      <th>pokemon_order</th>\n",
       "      <th>legacy_id</th>\n",
       "    </tr>\n",
       "  </thead>\n",
       "  <tbody>\n",
       "    <tr>\n",
       "      <th>177</th>\n",
       "      <td>178</td>\n",
       "      <td>xatu</td>\n",
       "      <td>Xatu</td>\n",
       "      <td>Xatu</td>\n",
       "      <td>Mystic</td>\n",
       "      <td>ネイティオ</td>\n",
       "      <td>Natio</td>\n",
       "      <td>せいれい</td>\n",
       "      <td>2</td>\n",
       "      <td>178</td>\n",
       "      <td>...</td>\n",
       "      <td>171</td>\n",
       "      <td>70</td>\n",
       "      <td>4</td>\n",
       "      <td>NaN</td>\n",
       "      <td>0</td>\n",
       "      <td>NaN</td>\n",
       "      <td>20</td>\n",
       "      <td>1000000</td>\n",
       "      <td>206</td>\n",
       "      <td>178.0</td>\n",
       "    </tr>\n",
       "  </tbody>\n",
       "</table>\n",
       "<p>1 rows × 38 columns</p>\n",
       "</div>"
      ],
      "text/plain": [
       "      id identifier  name name_phonetic species name_jp name_jp_romaji  \\\n",
       "177  178       xatu  Xatu          Xatu  Mystic   ネイティオ          Natio   \n",
       "\n",
       "    species_jp  generation_id  ndex    ...      exp_yield  base_happiness  \\\n",
       "177       せいれい              2   178    ...            171              70   \n",
       "\n",
       "     egg_group1_id  egg_group2_id  is_baby  baby_breed_item_id  hatch_counter  \\\n",
       "177              4            NaN        0                 NaN             20   \n",
       "\n",
       "     lvl_100_exp  pokemon_order  legacy_id  \n",
       "177      1000000            206      178.0  \n",
       "\n",
       "[1 rows x 38 columns]"
      ]
     },
     "execution_count": 10,
     "metadata": {},
     "output_type": "execute_result"
    }
   ],
   "source": [
    "pokemons[pokemons['name'] == 'Xatu']"
   ]
  },
  {
   "cell_type": "markdown",
   "metadata": {},
   "source": [
    "## Знакомьтесь. Xatu"
   ]
  },
  {
   "cell_type": "markdown",
   "metadata": {},
   "source": [
    "![Image of Yaktocat](https://img.pokemondb.net/artwork/xatu.jpg)"
   ]
  },
  {
   "cell_type": "markdown",
   "metadata": {},
   "source": [
    "__Он скучненький и может быть поэтому один. Может часами стоять и следить глазами за солнцем, видит прошлое и будущее.__"
   ]
  },
  {
   "cell_type": "markdown",
   "metadata": {},
   "source": [
    "### Гениальная (не очень) идея: а давайте построим график по всему датасету!"
   ]
  },
  {
   "cell_type": "code",
   "execution_count": 11,
   "metadata": {
    "collapsed": false,
    "scrolled": true
   },
   "outputs": [
    {
     "data": {
      "text/plain": [
       "<matplotlib.axes._subplots.AxesSubplot at 0x111635860>"
      ]
     },
     "execution_count": 11,
     "metadata": {},
     "output_type": "execute_result"
    },
    {
     "data": {
      "image/png": "[encoded data removed]",
      "text/plain": [
       "<matplotlib.figure.Figure at 0x106f6e358>"
      ]
     },
     "metadata": {},
     "output_type": "display_data"
    }
   ],
   "source": [
    "pokemons.plot()"
   ]
  },
  {
   "cell_type": "markdown",
   "metadata": {},
   "source": [
    "### А я сразу говорила, что идея так себе\n",
    "\n",
    "\n",
    "### Лучше построим какие-нибудь нормальные графики. Например, частотное распределение имен"
   ]
  },
  {
   "cell_type": "code",
   "execution_count": 12,
   "metadata": {
    "collapsed": false
   },
   "outputs": [
    {
     "data": {
      "text/plain": [
       "<matplotlib.text.Text at 0x1140020f0>"
      ]
     },
     "execution_count": 12,
     "metadata": {},
     "output_type": "execute_result"
    },
    {
     "data": {
      "image/png": "[encoded data removed]",
      "text/plain": [
       "<matplotlib.figure.Figure at 0x113f5d710>"
      ]
     },
     "metadata": {},
     "output_type": "display_data"
    }
   ],
   "source": [
    "plt.plot(number_of_certain_names)\n",
    "plt.xlabel('порядковый номер буквы')\n",
    "plt.ylabel('количество имен')"
   ]
  },
  {
   "cell_type": "markdown",
   "metadata": {},
   "source": [
    "# Попробуем найти самые популярные способности"
   ]
  },
  {
   "cell_type": "markdown",
   "metadata": {
    "collapsed": true
   },
   "source": [
    "### План действий такой:\n",
    "\n",
    "#### 1) посчитаем, у скольких покемонов есть только одна способность\n",
    "#### 2) потом - у скольких две\n",
    "#### 3) самая популярная желаемая способность\n"
   ]
  },
  {
   "cell_type": "code",
   "execution_count": 13,
   "metadata": {
    "collapsed": false,
    "scrolled": true
   },
   "outputs": [
    {
     "data": {
      "text/plain": [
       "Index(['id', 'identifier', 'name', 'name_phonetic', 'species', 'name_jp',\n",
       "       'name_jp_romaji', 'species_jp', 'generation_id', 'ndex', 'kdex', 'jdex',\n",
       "       'jdex_old', 'hdex', 'sdex', 'udex', 'type1_id', 'type2_id',\n",
       "       'ability1_id', 'ability2_id', 'abilitydream_id',\n",
       "       'evolution_parent_pokemon_id', 'evolution_method_id',\n",
       "       'evolution_parameter', 'height', 'weight', 'gender_rate', 'catch_rate',\n",
       "       'exp_yield', 'base_happiness', 'egg_group1_id', 'egg_group2_id',\n",
       "       'is_baby', 'baby_breed_item_id', 'hatch_counter', 'lvl_100_exp',\n",
       "       'pokemon_order', 'legacy_id'],\n",
       "      dtype='object')"
      ]
     },
     "execution_count": 13,
     "metadata": {},
     "output_type": "execute_result"
    }
   ],
   "source": [
    "pokemons.columns"
   ]
  },
  {
   "cell_type": "code",
   "execution_count": 14,
   "metadata": {
    "collapsed": false,
    "scrolled": true
   },
   "outputs": [
    {
     "data": {
      "text/html": [
       "<div>\n",
       "<table border=\"1\" class=\"dataframe\">\n",
       "  <thead>\n",
       "    <tr style=\"text-align: right;\">\n",
       "      <th></th>\n",
       "      <th>name</th>\n",
       "      <th>species</th>\n",
       "      <th>ability1_id</th>\n",
       "      <th>ability2_id</th>\n",
       "      <th>abilitydream_id</th>\n",
       "      <th>generation_id</th>\n",
       "    </tr>\n",
       "  </thead>\n",
       "  <tbody>\n",
       "    <tr>\n",
       "      <th>0</th>\n",
       "      <td>Bulbasaur</td>\n",
       "      <td>Seed</td>\n",
       "      <td>65</td>\n",
       "      <td>NaN</td>\n",
       "      <td>34.0</td>\n",
       "      <td>1</td>\n",
       "    </tr>\n",
       "    <tr>\n",
       "      <th>1</th>\n",
       "      <td>Ivysaur</td>\n",
       "      <td>Seed</td>\n",
       "      <td>65</td>\n",
       "      <td>NaN</td>\n",
       "      <td>34.0</td>\n",
       "      <td>1</td>\n",
       "    </tr>\n",
       "    <tr>\n",
       "      <th>2</th>\n",
       "      <td>Venusaur</td>\n",
       "      <td>Seed</td>\n",
       "      <td>65</td>\n",
       "      <td>NaN</td>\n",
       "      <td>34.0</td>\n",
       "      <td>1</td>\n",
       "    </tr>\n",
       "    <tr>\n",
       "      <th>3</th>\n",
       "      <td>Charmander</td>\n",
       "      <td>Lizard</td>\n",
       "      <td>66</td>\n",
       "      <td>NaN</td>\n",
       "      <td>94.0</td>\n",
       "      <td>1</td>\n",
       "    </tr>\n",
       "    <tr>\n",
       "      <th>4</th>\n",
       "      <td>Charmeleon</td>\n",
       "      <td>Flame</td>\n",
       "      <td>66</td>\n",
       "      <td>NaN</td>\n",
       "      <td>94.0</td>\n",
       "      <td>1</td>\n",
       "    </tr>\n",
       "  </tbody>\n",
       "</table>\n",
       "</div>"
      ],
      "text/plain": [
       "         name species  ability1_id  ability2_id  abilitydream_id  \\\n",
       "0   Bulbasaur    Seed           65          NaN             34.0   \n",
       "1     Ivysaur    Seed           65          NaN             34.0   \n",
       "2    Venusaur    Seed           65          NaN             34.0   \n",
       "3  Charmander  Lizard           66          NaN             94.0   \n",
       "4  Charmeleon   Flame           66          NaN             94.0   \n",
       "\n",
       "   generation_id  \n",
       "0              1  \n",
       "1              1  \n",
       "2              1  \n",
       "3              1  \n",
       "4              1  "
      ]
     },
     "execution_count": 14,
     "metadata": {},
     "output_type": "execute_result"
    }
   ],
   "source": [
    "pk = pokemons[['name', 'species', 'ability1_id', 'ability2_id', 'abilitydream_id', 'generation_id']].copy()\n",
    "pk.head()"
   ]
  },
  {
   "cell_type": "markdown",
   "metadata": {},
   "source": [
    "### В следующей ячейке волшебный код, который даст ответ на первые 2 пункта и немного скажет о третьем "
   ]
  },
  {
   "cell_type": "code",
   "execution_count": 15,
   "metadata": {
    "collapsed": false,
    "scrolled": true
   },
   "outputs": [
    {
     "name": "stdout",
     "output_type": "stream",
     "text": [
      "Всего в датасете 663 покемона\n",
      "\n",
      "663 из них имеют как минимум одну способность\n",
      "355 покемонам повезло иметь сразу 2 способности\n",
      "571 - столько покемонов мечтает о новой суперспособности\n"
     ]
    }
   ],
   "source": [
    "n = len(pk['name'])\n",
    "\n",
    "#посчитаем, у скольких покемонов есть только одна способность\n",
    "nab1 = np.count_nonzero(~np.isnan(pk['ability1_id']))\n",
    "\n",
    "#а теперь тех, у кого есть вторая способность\n",
    "nab2 = np.count_nonzero(~np.isnan(pk['ability2_id']))\n",
    "\n",
    "\n",
    "#проверим, сколько покемонов мечтают о способности, которой у них нет\n",
    "nabdr = np.count_nonzero(~np.isnan(pk['abilitydream_id']))\n",
    "\n",
    "print('Всего в датасете', n , 'покемона')\n",
    "print()\n",
    "print(nab1, 'из них имеют как минимум одну способность')\n",
    "print(nab2, 'покемонам повезло иметь сразу 2 способности')\n",
    "print(nabdr, '- столько покемонов мечтает о новой суперспособности')"
   ]
  },
  {
   "cell_type": "markdown",
   "metadata": {},
   "source": [
    "### Приведем последние 2 столбика датасета к int, так приятнее"
   ]
  },
  {
   "cell_type": "code",
   "execution_count": 16,
   "metadata": {
    "collapsed": false
   },
   "outputs": [],
   "source": [
    "pk[['ability2_id']] = pk[['ability2_id']].fillna(0.0).astype(int)\n",
    "pk[['abilitydream_id']] = pk[['abilitydream_id']].fillna(0.0).astype(int)"
   ]
  },
  {
   "cell_type": "code",
   "execution_count": 17,
   "metadata": {
    "collapsed": false
   },
   "outputs": [
    {
     "data": {
      "text/html": [
       "<div>\n",
       "<table border=\"1\" class=\"dataframe\">\n",
       "  <thead>\n",
       "    <tr style=\"text-align: right;\">\n",
       "      <th></th>\n",
       "      <th>name</th>\n",
       "      <th>species</th>\n",
       "      <th>ability1_id</th>\n",
       "      <th>ability2_id</th>\n",
       "      <th>abilitydream_id</th>\n",
       "      <th>generation_id</th>\n",
       "    </tr>\n",
       "  </thead>\n",
       "  <tbody>\n",
       "    <tr>\n",
       "      <th>0</th>\n",
       "      <td>Bulbasaur</td>\n",
       "      <td>Seed</td>\n",
       "      <td>65</td>\n",
       "      <td>0</td>\n",
       "      <td>34</td>\n",
       "      <td>1</td>\n",
       "    </tr>\n",
       "    <tr>\n",
       "      <th>1</th>\n",
       "      <td>Ivysaur</td>\n",
       "      <td>Seed</td>\n",
       "      <td>65</td>\n",
       "      <td>0</td>\n",
       "      <td>34</td>\n",
       "      <td>1</td>\n",
       "    </tr>\n",
       "    <tr>\n",
       "      <th>2</th>\n",
       "      <td>Venusaur</td>\n",
       "      <td>Seed</td>\n",
       "      <td>65</td>\n",
       "      <td>0</td>\n",
       "      <td>34</td>\n",
       "      <td>1</td>\n",
       "    </tr>\n",
       "    <tr>\n",
       "      <th>3</th>\n",
       "      <td>Charmander</td>\n",
       "      <td>Lizard</td>\n",
       "      <td>66</td>\n",
       "      <td>0</td>\n",
       "      <td>94</td>\n",
       "      <td>1</td>\n",
       "    </tr>\n",
       "    <tr>\n",
       "      <th>4</th>\n",
       "      <td>Charmeleon</td>\n",
       "      <td>Flame</td>\n",
       "      <td>66</td>\n",
       "      <td>0</td>\n",
       "      <td>94</td>\n",
       "      <td>1</td>\n",
       "    </tr>\n",
       "  </tbody>\n",
       "</table>\n",
       "</div>"
      ],
      "text/plain": [
       "         name species  ability1_id  ability2_id  abilitydream_id  \\\n",
       "0   Bulbasaur    Seed           65            0               34   \n",
       "1     Ivysaur    Seed           65            0               34   \n",
       "2    Venusaur    Seed           65            0               34   \n",
       "3  Charmander  Lizard           66            0               94   \n",
       "4  Charmeleon   Flame           66            0               94   \n",
       "\n",
       "   generation_id  \n",
       "0              1  \n",
       "1              1  \n",
       "2              1  \n",
       "3              1  \n",
       "4              1  "
      ]
     },
     "execution_count": 17,
     "metadata": {},
     "output_type": "execute_result"
    }
   ],
   "source": [
    "pk.head()"
   ]
  },
  {
   "cell_type": "code",
   "execution_count": 18,
   "metadata": {
    "collapsed": false,
    "scrolled": true
   },
   "outputs": [
    {
     "data": {
      "text/html": [
       "<div>\n",
       "<table border=\"1\" class=\"dataframe\">\n",
       "  <thead>\n",
       "    <tr style=\"text-align: right;\">\n",
       "      <th></th>\n",
       "      <th>id</th>\n",
       "      <th>identifier</th>\n",
       "      <th>name</th>\n",
       "      <th>name_jp</th>\n",
       "      <th>name_jp_tm</th>\n",
       "      <th>generation_id</th>\n",
       "      <th>color_id</th>\n",
       "    </tr>\n",
       "  </thead>\n",
       "  <tbody>\n",
       "    <tr>\n",
       "      <th>0</th>\n",
       "      <td>1</td>\n",
       "      <td>stench</td>\n",
       "      <td>Stench</td>\n",
       "      <td>あくしゅう</td>\n",
       "      <td>Stench</td>\n",
       "      <td>3</td>\n",
       "      <td>4</td>\n",
       "    </tr>\n",
       "    <tr>\n",
       "      <th>1</th>\n",
       "      <td>2</td>\n",
       "      <td>drizzle</td>\n",
       "      <td>Drizzle</td>\n",
       "      <td>あめふらし</td>\n",
       "      <td>Rainfall</td>\n",
       "      <td>3</td>\n",
       "      <td>11</td>\n",
       "    </tr>\n",
       "    <tr>\n",
       "      <th>2</th>\n",
       "      <td>3</td>\n",
       "      <td>speed-boost</td>\n",
       "      <td>Speed Boost</td>\n",
       "      <td>かそく</td>\n",
       "      <td>Acceleration</td>\n",
       "      <td>3</td>\n",
       "      <td>23</td>\n",
       "    </tr>\n",
       "    <tr>\n",
       "      <th>3</th>\n",
       "      <td>4</td>\n",
       "      <td>battle-armor</td>\n",
       "      <td>Battle Armor</td>\n",
       "      <td>カブトアーマー</td>\n",
       "      <td>Kabuto Armor</td>\n",
       "      <td>3</td>\n",
       "      <td>6</td>\n",
       "    </tr>\n",
       "    <tr>\n",
       "      <th>4</th>\n",
       "      <td>5</td>\n",
       "      <td>sturdy</td>\n",
       "      <td>Sturdy</td>\n",
       "      <td>がんじょう</td>\n",
       "      <td>Sturdy</td>\n",
       "      <td>3</td>\n",
       "      <td>6</td>\n",
       "    </tr>\n",
       "  </tbody>\n",
       "</table>\n",
       "</div>"
      ],
      "text/plain": [
       "   id    identifier          name  name_jp    name_jp_tm  generation_id  \\\n",
       "0   1        stench        Stench    あくしゅう        Stench              3   \n",
       "1   2       drizzle       Drizzle    あめふらし      Rainfall              3   \n",
       "2   3   speed-boost   Speed Boost      かそく  Acceleration              3   \n",
       "3   4  battle-armor  Battle Armor  カブトアーマー  Kabuto Armor              3   \n",
       "4   5        sturdy        Sturdy    がんじょう        Sturdy              3   \n",
       "\n",
       "   color_id  \n",
       "0         4  \n",
       "1        11  \n",
       "2        23  \n",
       "3         6  \n",
       "4         6  "
      ]
     },
     "execution_count": 18,
     "metadata": {},
     "output_type": "execute_result"
    }
   ],
   "source": [
    "abilities.head()"
   ]
  },
  {
   "cell_type": "markdown",
   "metadata": {},
   "source": [
    "### Выясним, какой первой способностью обладает наибольшее количество покемонов"
   ]
  },
  {
   "cell_type": "code",
   "execution_count": 19,
   "metadata": {
    "collapsed": false
   },
   "outputs": [
    {
     "name": "stdout",
     "output_type": "stream",
     "text": [
      "24 по индексу строка содержит в себе самую распространенную первую способность.\n",
      "Ей обладают 38 покемонов.\n"
     ]
    }
   ],
   "source": [
    "grouped_ab1 = pk.groupby('ability1_id')['species'].count()\n",
    "ind_max_ab1 = list(grouped_ab1).index(max(grouped_ab1))\n",
    "print(ind_max_ab1, 'по индексу строка содержит в себе самую распространенную первую способность.')\n",
    "print('Ей обладают', max(grouped_ab1), 'покемонов.')"
   ]
  },
  {
   "cell_type": "markdown",
   "metadata": {},
   "source": [
    "### То, что индекс 24, ни о чем не говорит. Мы должны проверить, какая именно способность соответствует самой частовстречаемой"
   ]
  },
  {
   "cell_type": "code",
   "execution_count": 20,
   "metadata": {
    "collapsed": false
   },
   "outputs": [
    {
     "data": {
      "text/plain": [
       "ability1_id\n",
       "26    38\n",
       "Name: species, dtype: int64"
      ]
     },
     "execution_count": 20,
     "metadata": {},
     "output_type": "execute_result"
    }
   ],
   "source": [
    "grouped_ab1[24:25]"
   ]
  },
  {
   "cell_type": "markdown",
   "metadata": {},
   "source": [
    "## Отлично! Теперь мы знаем, что самая частовстречаемая способность кодируется номером 26. Скорее смотреть в другой датасет!"
   ]
  },
  {
   "cell_type": "code",
   "execution_count": 21,
   "metadata": {
    "collapsed": false,
    "scrolled": true
   },
   "outputs": [
    {
     "data": {
      "text/html": [
       "<div>\n",
       "<table border=\"1\" class=\"dataframe\">\n",
       "  <thead>\n",
       "    <tr style=\"text-align: right;\">\n",
       "      <th></th>\n",
       "      <th>id</th>\n",
       "      <th>identifier</th>\n",
       "      <th>name</th>\n",
       "      <th>name_jp</th>\n",
       "      <th>name_jp_tm</th>\n",
       "      <th>generation_id</th>\n",
       "      <th>color_id</th>\n",
       "    </tr>\n",
       "  </thead>\n",
       "  <tbody>\n",
       "    <tr>\n",
       "      <th>25</th>\n",
       "      <td>26</td>\n",
       "      <td>levitate</td>\n",
       "      <td>Levitate</td>\n",
       "      <td>ふゆう</td>\n",
       "      <td>Floating</td>\n",
       "      <td>3</td>\n",
       "      <td>3</td>\n",
       "    </tr>\n",
       "  </tbody>\n",
       "</table>\n",
       "</div>"
      ],
      "text/plain": [
       "    id identifier      name name_jp name_jp_tm  generation_id  color_id\n",
       "25  26   levitate  Levitate     ふゆう   Floating              3         3"
      ]
     },
     "execution_count": 21,
     "metadata": {},
     "output_type": "execute_result"
    }
   ],
   "source": [
    "abilities[abilities['id'] == 26]"
   ]
  },
  {
   "cell_type": "markdown",
   "metadata": {},
   "source": [
    "### Построим график"
   ]
  },
  {
   "cell_type": "code",
   "execution_count": 22,
   "metadata": {
    "collapsed": false
   },
   "outputs": [
    {
     "data": {
      "text/plain": [
       "<matplotlib.text.Text at 0x1140f8d30>"
      ]
     },
     "execution_count": 22,
     "metadata": {},
     "output_type": "execute_result"
    },
    {
     "data": {
      "image/png": "[encoded data removed]",
      "text/plain": [
       "<matplotlib.figure.Figure at 0x114004080>"
      ]
     },
     "metadata": {},
     "output_type": "display_data"
    }
   ],
   "source": [
    "plt.plot(grouped_ab1)\n",
    "plt.xlabel('id первой способности ')\n",
    "plt.ylabel('количество покемонов')"
   ]
  },
  {
   "cell_type": "markdown",
   "metadata": {},
   "source": [
    "### На графике видно, что чаще встречаются способности из первой половины списка. Тем не менее нельзя сказать, что какая-то из них уж очень распространена. 38 покемонов из 633 - всего лишь 6% от общего количества"
   ]
  },
  {
   "cell_type": "code",
   "execution_count": 23,
   "metadata": {
    "collapsed": false,
    "scrolled": true
   },
   "outputs": [
    {
     "data": {
      "text/plain": [
       "6"
      ]
     },
     "execution_count": 23,
     "metadata": {},
     "output_type": "execute_result"
    }
   ],
   "source": [
    "round((38/633)*100)"
   ]
  },
  {
   "cell_type": "markdown",
   "metadata": {},
   "source": [
    "### Посмотрим, к каким видам принадлежат покемоны, умеющие левитировать"
   ]
  },
  {
   "cell_type": "code",
   "execution_count": 24,
   "metadata": {
    "collapsed": false,
    "scrolled": true
   },
   "outputs": [
    {
     "data": {
      "text/plain": [
       "array(['Gas', 'Gas', 'Shadow', 'Poison Gas', 'Poison Gas', 'Screech',\n",
       "       'Symbol', 'Vibration', 'Mystic', 'Meteorite', 'Meteorite',\n",
       "       'Clay Doll', 'Clay Doll', 'Requiem', 'Wind Chime', 'Eon', 'Eon',\n",
       "       'Magical', 'Bell', 'Bronze', 'Bronze Bell', 'Bug Catcher', 'Plasma',\n",
       "       'Knowledge', 'Emotion', 'Willpower', 'Lunar', 'EleFish', 'EleFish',\n",
       "       'EleFish', 'Crystallizing', 'Brutal', 'Renegade', 'Plasma',\n",
       "       'Plasma', 'Plasma', 'Plasma', 'Plasma'], dtype=object)"
      ]
     },
     "execution_count": 24,
     "metadata": {},
     "output_type": "execute_result"
    }
   ],
   "source": [
    "pk_ab1 = pokemons[pokemons['ability1_id'] == 26]\n",
    "pk_ab1.species.values"
   ]
  },
  {
   "cell_type": "code",
   "execution_count": 25,
   "metadata": {
    "collapsed": false
   },
   "outputs": [
    {
     "data": {
      "text/html": [
       "<div>\n",
       "<table border=\"1\" class=\"dataframe\">\n",
       "  <thead>\n",
       "    <tr style=\"text-align: right;\">\n",
       "      <th></th>\n",
       "      <th>id</th>\n",
       "      <th>identifier</th>\n",
       "      <th>name</th>\n",
       "      <th>name_phonetic</th>\n",
       "      <th>species</th>\n",
       "      <th>name_jp</th>\n",
       "      <th>name_jp_romaji</th>\n",
       "      <th>species_jp</th>\n",
       "      <th>generation_id</th>\n",
       "      <th>ndex</th>\n",
       "      <th>...</th>\n",
       "      <th>exp_yield</th>\n",
       "      <th>base_happiness</th>\n",
       "      <th>egg_group1_id</th>\n",
       "      <th>egg_group2_id</th>\n",
       "      <th>is_baby</th>\n",
       "      <th>baby_breed_item_id</th>\n",
       "      <th>hatch_counter</th>\n",
       "      <th>lvl_100_exp</th>\n",
       "      <th>pokemon_order</th>\n",
       "      <th>legacy_id</th>\n",
       "    </tr>\n",
       "  </thead>\n",
       "  <tbody>\n",
       "    <tr>\n",
       "      <th>656</th>\n",
       "      <td>10008</td>\n",
       "      <td>rotom</td>\n",
       "      <td>Rotom</td>\n",
       "      <td>Rotom</td>\n",
       "      <td>Plasma</td>\n",
       "      <td>ロトム</td>\n",
       "      <td>Rotom</td>\n",
       "      <td>プラズマ</td>\n",
       "      <td>4</td>\n",
       "      <td>479</td>\n",
       "      <td>...</td>\n",
       "      <td>132</td>\n",
       "      <td>70</td>\n",
       "      <td>11</td>\n",
       "      <td>NaN</td>\n",
       "      <td>0</td>\n",
       "      <td>NaN</td>\n",
       "      <td>20</td>\n",
       "      <td>1000000</td>\n",
       "      <td>490</td>\n",
       "      <td>485.0</td>\n",
       "    </tr>\n",
       "    <tr>\n",
       "      <th>657</th>\n",
       "      <td>10009</td>\n",
       "      <td>rotom</td>\n",
       "      <td>Rotom</td>\n",
       "      <td>Rotom</td>\n",
       "      <td>Plasma</td>\n",
       "      <td>ロトム</td>\n",
       "      <td>Rotom</td>\n",
       "      <td>プラズマ</td>\n",
       "      <td>4</td>\n",
       "      <td>479</td>\n",
       "      <td>...</td>\n",
       "      <td>132</td>\n",
       "      <td>70</td>\n",
       "      <td>11</td>\n",
       "      <td>NaN</td>\n",
       "      <td>0</td>\n",
       "      <td>NaN</td>\n",
       "      <td>20</td>\n",
       "      <td>1000000</td>\n",
       "      <td>492</td>\n",
       "      <td>486.0</td>\n",
       "    </tr>\n",
       "    <tr>\n",
       "      <th>658</th>\n",
       "      <td>10010</td>\n",
       "      <td>rotom</td>\n",
       "      <td>Rotom</td>\n",
       "      <td>Rotom</td>\n",
       "      <td>Plasma</td>\n",
       "      <td>ロトム</td>\n",
       "      <td>Rotom</td>\n",
       "      <td>プラズマ</td>\n",
       "      <td>4</td>\n",
       "      <td>479</td>\n",
       "      <td>...</td>\n",
       "      <td>132</td>\n",
       "      <td>70</td>\n",
       "      <td>11</td>\n",
       "      <td>NaN</td>\n",
       "      <td>0</td>\n",
       "      <td>NaN</td>\n",
       "      <td>20</td>\n",
       "      <td>1000000</td>\n",
       "      <td>489</td>\n",
       "      <td>487.0</td>\n",
       "    </tr>\n",
       "    <tr>\n",
       "      <th>659</th>\n",
       "      <td>10011</td>\n",
       "      <td>rotom</td>\n",
       "      <td>Rotom</td>\n",
       "      <td>Rotom</td>\n",
       "      <td>Plasma</td>\n",
       "      <td>ロトム</td>\n",
       "      <td>Rotom</td>\n",
       "      <td>プラズマ</td>\n",
       "      <td>4</td>\n",
       "      <td>479</td>\n",
       "      <td>...</td>\n",
       "      <td>132</td>\n",
       "      <td>70</td>\n",
       "      <td>11</td>\n",
       "      <td>NaN</td>\n",
       "      <td>0</td>\n",
       "      <td>NaN</td>\n",
       "      <td>20</td>\n",
       "      <td>1000000</td>\n",
       "      <td>488</td>\n",
       "      <td>488.0</td>\n",
       "    </tr>\n",
       "    <tr>\n",
       "      <th>660</th>\n",
       "      <td>10012</td>\n",
       "      <td>rotom</td>\n",
       "      <td>Rotom</td>\n",
       "      <td>Rotom</td>\n",
       "      <td>Plasma</td>\n",
       "      <td>ロトム</td>\n",
       "      <td>Rotom</td>\n",
       "      <td>プラズマ</td>\n",
       "      <td>4</td>\n",
       "      <td>479</td>\n",
       "      <td>...</td>\n",
       "      <td>132</td>\n",
       "      <td>70</td>\n",
       "      <td>11</td>\n",
       "      <td>NaN</td>\n",
       "      <td>0</td>\n",
       "      <td>NaN</td>\n",
       "      <td>20</td>\n",
       "      <td>1000000</td>\n",
       "      <td>491</td>\n",
       "      <td>499.0</td>\n",
       "    </tr>\n",
       "  </tbody>\n",
       "</table>\n",
       "<p>5 rows × 38 columns</p>\n",
       "</div>"
      ],
      "text/plain": [
       "        id identifier   name name_phonetic species name_jp name_jp_romaji  \\\n",
       "656  10008      rotom  Rotom         Rotom  Plasma     ロトム          Rotom   \n",
       "657  10009      rotom  Rotom         Rotom  Plasma     ロトム          Rotom   \n",
       "658  10010      rotom  Rotom         Rotom  Plasma     ロトム          Rotom   \n",
       "659  10011      rotom  Rotom         Rotom  Plasma     ロトム          Rotom   \n",
       "660  10012      rotom  Rotom         Rotom  Plasma     ロトム          Rotom   \n",
       "\n",
       "    species_jp  generation_id  ndex    ...      exp_yield  base_happiness  \\\n",
       "656       プラズマ              4   479    ...            132              70   \n",
       "657       プラズマ              4   479    ...            132              70   \n",
       "658       プラズマ              4   479    ...            132              70   \n",
       "659       プラズマ              4   479    ...            132              70   \n",
       "660       プラズマ              4   479    ...            132              70   \n",
       "\n",
       "     egg_group1_id  egg_group2_id  is_baby  baby_breed_item_id  hatch_counter  \\\n",
       "656             11            NaN        0                 NaN             20   \n",
       "657             11            NaN        0                 NaN             20   \n",
       "658             11            NaN        0                 NaN             20   \n",
       "659             11            NaN        0                 NaN             20   \n",
       "660             11            NaN        0                 NaN             20   \n",
       "\n",
       "     lvl_100_exp  pokemon_order  legacy_id  \n",
       "656      1000000            490      485.0  \n",
       "657      1000000            492      486.0  \n",
       "658      1000000            489      487.0  \n",
       "659      1000000            488      488.0  \n",
       "660      1000000            491      499.0  \n",
       "\n",
       "[5 rows x 38 columns]"
      ]
     },
     "execution_count": 25,
     "metadata": {},
     "output_type": "execute_result"
    }
   ],
   "source": [
    "pk_ab1.tail()"
   ]
  },
  {
   "cell_type": "markdown",
   "metadata": {},
   "source": [
    "### А теперь посмотрим, кто из них самый счастливый"
   ]
  },
  {
   "cell_type": "code",
   "execution_count": 26,
   "metadata": {
    "collapsed": false
   },
   "outputs": [
    {
     "data": {
      "text/plain": [
       "140"
      ]
     },
     "execution_count": 26,
     "metadata": {},
     "output_type": "execute_result"
    }
   ],
   "source": [
    "happy = pk_ab1.base_happiness.values\n",
    "mhappy = max(happy)\n",
    "mhappy"
   ]
  },
  {
   "cell_type": "code",
   "execution_count": 27,
   "metadata": {
    "collapsed": false
   },
   "outputs": [
    {
     "data": {
      "text/plain": [
       "140"
      ]
     },
     "execution_count": 27,
     "metadata": {},
     "output_type": "execute_result"
    }
   ],
   "source": [
    "#максимальный уровень счастья вообще\n",
    "max(pokemons.base_happiness.values)"
   ]
  },
  {
   "cell_type": "code",
   "execution_count": 28,
   "metadata": {
    "collapsed": false,
    "scrolled": false
   },
   "outputs": [
    {
     "data": {
      "text/html": [
       "<div>\n",
       "<table border=\"1\" class=\"dataframe\">\n",
       "  <thead>\n",
       "    <tr style=\"text-align: right;\">\n",
       "      <th></th>\n",
       "      <th>id</th>\n",
       "      <th>identifier</th>\n",
       "      <th>name</th>\n",
       "      <th>name_phonetic</th>\n",
       "      <th>species</th>\n",
       "      <th>name_jp</th>\n",
       "      <th>name_jp_romaji</th>\n",
       "      <th>species_jp</th>\n",
       "      <th>generation_id</th>\n",
       "      <th>ndex</th>\n",
       "      <th>...</th>\n",
       "      <th>exp_yield</th>\n",
       "      <th>base_happiness</th>\n",
       "      <th>egg_group1_id</th>\n",
       "      <th>egg_group2_id</th>\n",
       "      <th>is_baby</th>\n",
       "      <th>baby_breed_item_id</th>\n",
       "      <th>hatch_counter</th>\n",
       "      <th>lvl_100_exp</th>\n",
       "      <th>pokemon_order</th>\n",
       "      <th>legacy_id</th>\n",
       "    </tr>\n",
       "  </thead>\n",
       "  <tbody>\n",
       "    <tr>\n",
       "      <th>479</th>\n",
       "      <td>480</td>\n",
       "      <td>uxie</td>\n",
       "      <td>Uxie</td>\n",
       "      <td>Uxie</td>\n",
       "      <td>Knowledge</td>\n",
       "      <td>ユクシー</td>\n",
       "      <td>Yuxie</td>\n",
       "      <td>ちしき</td>\n",
       "      <td>4</td>\n",
       "      <td>480</td>\n",
       "      <td>...</td>\n",
       "      <td>210</td>\n",
       "      <td>140</td>\n",
       "      <td>15</td>\n",
       "      <td>NaN</td>\n",
       "      <td>0</td>\n",
       "      <td>NaN</td>\n",
       "      <td>80</td>\n",
       "      <td>1250000</td>\n",
       "      <td>493</td>\n",
       "      <td>490.0</td>\n",
       "    </tr>\n",
       "    <tr>\n",
       "      <th>480</th>\n",
       "      <td>481</td>\n",
       "      <td>mesprit</td>\n",
       "      <td>Mesprit</td>\n",
       "      <td>Mesprit</td>\n",
       "      <td>Emotion</td>\n",
       "      <td>エムリット</td>\n",
       "      <td>Emrit</td>\n",
       "      <td>かんじょう</td>\n",
       "      <td>4</td>\n",
       "      <td>481</td>\n",
       "      <td>...</td>\n",
       "      <td>210</td>\n",
       "      <td>140</td>\n",
       "      <td>15</td>\n",
       "      <td>NaN</td>\n",
       "      <td>0</td>\n",
       "      <td>NaN</td>\n",
       "      <td>80</td>\n",
       "      <td>1250000</td>\n",
       "      <td>494</td>\n",
       "      <td>491.0</td>\n",
       "    </tr>\n",
       "    <tr>\n",
       "      <th>481</th>\n",
       "      <td>482</td>\n",
       "      <td>azelf</td>\n",
       "      <td>Azelf</td>\n",
       "      <td>Azelf</td>\n",
       "      <td>Willpower</td>\n",
       "      <td>アグノム</td>\n",
       "      <td>Agnome</td>\n",
       "      <td>いし</td>\n",
       "      <td>4</td>\n",
       "      <td>482</td>\n",
       "      <td>...</td>\n",
       "      <td>210</td>\n",
       "      <td>140</td>\n",
       "      <td>15</td>\n",
       "      <td>NaN</td>\n",
       "      <td>0</td>\n",
       "      <td>NaN</td>\n",
       "      <td>80</td>\n",
       "      <td>1250000</td>\n",
       "      <td>495</td>\n",
       "      <td>492.0</td>\n",
       "    </tr>\n",
       "  </tbody>\n",
       "</table>\n",
       "<p>3 rows × 38 columns</p>\n",
       "</div>"
      ],
      "text/plain": [
       "      id identifier     name name_phonetic    species name_jp name_jp_romaji  \\\n",
       "479  480       uxie     Uxie          Uxie  Knowledge    ユクシー          Yuxie   \n",
       "480  481    mesprit  Mesprit       Mesprit    Emotion   エムリット          Emrit   \n",
       "481  482      azelf    Azelf         Azelf  Willpower    アグノム         Agnome   \n",
       "\n",
       "    species_jp  generation_id  ndex    ...      exp_yield  base_happiness  \\\n",
       "479        ちしき              4   480    ...            210             140   \n",
       "480      かんじょう              4   481    ...            210             140   \n",
       "481         いし              4   482    ...            210             140   \n",
       "\n",
       "     egg_group1_id  egg_group2_id  is_baby  baby_breed_item_id  hatch_counter  \\\n",
       "479             15            NaN        0                 NaN             80   \n",
       "480             15            NaN        0                 NaN             80   \n",
       "481             15            NaN        0                 NaN             80   \n",
       "\n",
       "     lvl_100_exp  pokemon_order  legacy_id  \n",
       "479      1250000            493      490.0  \n",
       "480      1250000            494      491.0  \n",
       "481      1250000            495      492.0  \n",
       "\n",
       "[3 rows x 38 columns]"
      ]
     },
     "execution_count": 28,
     "metadata": {},
     "output_type": "execute_result"
    }
   ],
   "source": [
    "pk_ab1[pk_ab1['base_happiness'] == 140]"
   ]
  },
  {
   "cell_type": "markdown",
   "metadata": {},
   "source": [
    "## Перед вами Uxie, Mesprit и Azelf. Это Lake Guardians"
   ]
  },
  {
   "cell_type": "markdown",
   "metadata": {},
   "source": [
    "![Image of Yaktocat](https://cdn.bulbagarden.net/upload/thumb/4/46/Lake_guardians_DP.png/794px-Lake_guardians_DP.png)"
   ]
  },
  {
   "cell_type": "markdown",
   "metadata": {},
   "source": [
    "### Кстати говоря, интересный факт\n",
    "#### Их имена образованы частично от личных местоимений (you, me, us), частично от названий фантастических животных(pixies, sprites, elves).\n",
    "#### Сами они символизируют знание, эмоции и силу воли. Еще здесь есть отсылка к регалиям японских императоров, которые, в свою очередь символизируют мудрость, процветание и мужество.\n",
    "\n",
    "#### Думаю, они максимально счастливы, потому что являются положительными персонажами и вообще очень возвышенные."
   ]
  },
  {
   "cell_type": "markdown",
   "metadata": {},
   "source": [
    "### Теперь проделаем ту же процедуру для второй способности"
   ]
  },
  {
   "cell_type": "code",
   "execution_count": 29,
   "metadata": {
    "collapsed": false,
    "scrolled": true
   },
   "outputs": [
    {
     "name": "stdout",
     "output_type": "stream",
     "text": [
      "0 по индексу строка содержит в себе самую распространенную вторую способность.\n",
      "Ей обладают 308 покемонов.\n"
     ]
    }
   ],
   "source": [
    "#выясняем, какой второй способностью обладает наибольшее количество покемонов\n",
    "grouped_ab2 = pk.groupby('ability2_id')['species'].count()\n",
    "ind_max_ab2 = list(grouped_ab2).index(max(grouped_ab2))\n",
    "print(ind_max_ab2, 'по индексу строка содержит в себе самую распространенную вторую способность.')\n",
    "print('Ей обладают', max(grouped_ab2), 'покемонов.')"
   ]
  },
  {
   "cell_type": "markdown",
   "metadata": {},
   "source": [
    "### Получилось не то, что планировалось: мы нашли количество покемонов, которые не обладают второй способностью"
   ]
  },
  {
   "cell_type": "code",
   "execution_count": 30,
   "metadata": {
    "collapsed": false,
    "scrolled": true
   },
   "outputs": [
    {
     "name": "stdout",
     "output_type": "stream",
     "text": [
      "1 по индексу строка содержит в себе самую распространенную вторую способность.\n",
      "Ей обладают 11 покемонов.\n"
     ]
    }
   ],
   "source": [
    "ind_max_ab2 = list(grouped_ab2[1:]).index(max(grouped_ab2[1:]))\n",
    "print(ind_max_ab2, 'по индексу строка содержит в себе самую распространенную вторую способность.')\n",
    "print('Ей обладают', max(grouped_ab2[1:]), 'покемонов.')"
   ]
  },
  {
   "cell_type": "code",
   "execution_count": 31,
   "metadata": {
    "collapsed": false
   },
   "outputs": [
    {
     "data": {
      "text/plain": [
       "ability2_id\n",
       "5    11\n",
       "Name: species, dtype: int64"
      ]
     },
     "execution_count": 31,
     "metadata": {},
     "output_type": "execute_result"
    }
   ],
   "source": [
    "grouped_ab2[1:][1:2]"
   ]
  },
  {
   "cell_type": "code",
   "execution_count": 32,
   "metadata": {
    "collapsed": false
   },
   "outputs": [
    {
     "data": {
      "text/html": [
       "<div>\n",
       "<table border=\"1\" class=\"dataframe\">\n",
       "  <thead>\n",
       "    <tr style=\"text-align: right;\">\n",
       "      <th></th>\n",
       "      <th>id</th>\n",
       "      <th>identifier</th>\n",
       "      <th>name</th>\n",
       "      <th>name_jp</th>\n",
       "      <th>name_jp_tm</th>\n",
       "      <th>generation_id</th>\n",
       "      <th>color_id</th>\n",
       "    </tr>\n",
       "  </thead>\n",
       "  <tbody>\n",
       "    <tr>\n",
       "      <th>4</th>\n",
       "      <td>5</td>\n",
       "      <td>sturdy</td>\n",
       "      <td>Sturdy</td>\n",
       "      <td>がんじょう</td>\n",
       "      <td>Sturdy</td>\n",
       "      <td>3</td>\n",
       "      <td>6</td>\n",
       "    </tr>\n",
       "  </tbody>\n",
       "</table>\n",
       "</div>"
      ],
      "text/plain": [
       "   id identifier    name name_jp name_jp_tm  generation_id  color_id\n",
       "4   5     sturdy  Sturdy   がんじょう     Sturdy              3         6"
      ]
     },
     "execution_count": 32,
     "metadata": {},
     "output_type": "execute_result"
    }
   ],
   "source": [
    "abilities[abilities['id'] == 5]"
   ]
  },
  {
   "cell_type": "markdown",
   "metadata": {},
   "source": [
    "## Самая популярная вторая способность - крепкость. Она тоже не очень распространена: всего лишь у 4% покемонов, обладающих двумя способностями"
   ]
  },
  {
   "cell_type": "code",
   "execution_count": 33,
   "metadata": {
    "collapsed": false
   },
   "outputs": [
    {
     "data": {
      "text/plain": [
       "4"
      ]
     },
     "execution_count": 33,
     "metadata": {},
     "output_type": "execute_result"
    }
   ],
   "source": [
    "round((11/355)*100)+1"
   ]
  },
  {
   "cell_type": "code",
   "execution_count": 34,
   "metadata": {
    "collapsed": false,
    "scrolled": false
   },
   "outputs": [
    {
     "data": {
      "text/plain": [
       "array(['Rock', 'Rock', 'Megaton', 'Magnet', 'Magnet', 'Rock Snake',\n",
       "       'Iron Snake', 'Armor Bird', 'Magnet Area', 'Prototurtle',\n",
       "       'Prototurtle'], dtype=object)"
      ]
     },
     "execution_count": 34,
     "metadata": {},
     "output_type": "execute_result"
    }
   ],
   "source": [
    "pk_ab2 = pokemons[pokemons['ability2_id'] == 5]\n",
    "pk_ab2.species.values"
   ]
  },
  {
   "cell_type": "markdown",
   "metadata": {},
   "source": [
    "### Что там с уровнем счастья? Он одинаков"
   ]
  },
  {
   "cell_type": "code",
   "execution_count": 35,
   "metadata": {
    "collapsed": false
   },
   "outputs": [
    {
     "data": {
      "text/plain": [
       "array([70, 70, 70, 70, 70, 70, 70, 70, 70, 70, 70])"
      ]
     },
     "execution_count": 35,
     "metadata": {},
     "output_type": "execute_result"
    }
   ],
   "source": [
    "pk_ab2.base_happiness.values"
   ]
  },
  {
   "cell_type": "markdown",
   "metadata": {},
   "source": [
    "### Построим график"
   ]
  },
  {
   "cell_type": "code",
   "execution_count": 36,
   "metadata": {
    "collapsed": false
   },
   "outputs": [
    {
     "data": {
      "text/plain": [
       "<matplotlib.text.Text at 0x1140f8940>"
      ]
     },
     "execution_count": 36,
     "metadata": {},
     "output_type": "execute_result"
    },
    {
     "data": {
      "image/png": "[encoded data removed]",
      "text/plain": [
       "<matplotlib.figure.Figure at 0x113f6d748>"
      ]
     },
     "metadata": {},
     "output_type": "display_data"
    }
   ],
   "source": [
    "plt.plot(grouped_ab2[1:])\n",
    "plt.xlabel('id второй способности ')\n",
    "plt.ylabel('количество покемонов')"
   ]
  },
  {
   "cell_type": "markdown",
   "metadata": {},
   "source": [
    "### На графике снова видим, что способности распространены по-разному. Но есть закономерность, что последние способности из списка распространены чуть меньше. Можем выдвинуть гипотезу, что способности из конца списка уникальные и их трудно получить\n",
    "\n",
    "### Еще видим, что глобальных максимумов 2, но функция max( ) сообщила нам только о первом из них. Посмотрим, что за способность распространена еще у 11 покемонов"
   ]
  },
  {
   "cell_type": "code",
   "execution_count": 37,
   "metadata": {
    "collapsed": false
   },
   "outputs": [
    {
     "name": "stdout",
     "output_type": "stream",
     "text": [
      "41 по индексу строка содержит в себе самую распространенную вторую способность.\n",
      "Ей обладают 11 покемонов.\n"
     ]
    }
   ],
   "source": [
    "ind_max_ab2 = list(grouped_ab2[4:]).index(max(grouped_ab2[4:]))\n",
    "print(ind_max_ab2, 'по индексу строка содержит в себе самую распространенную вторую способность.')\n",
    "print('Ей обладают', max(grouped_ab2[4:]), 'покемонов.')"
   ]
  },
  {
   "cell_type": "code",
   "execution_count": 38,
   "metadata": {
    "collapsed": false
   },
   "outputs": [
    {
     "data": {
      "text/plain": [
       "ability2_id\n",
       "75    11\n",
       "Name: species, dtype: int64"
      ]
     },
     "execution_count": 38,
     "metadata": {},
     "output_type": "execute_result"
    }
   ],
   "source": [
    "grouped_ab2[4:][41:42]"
   ]
  },
  {
   "cell_type": "code",
   "execution_count": 39,
   "metadata": {
    "collapsed": false
   },
   "outputs": [
    {
     "data": {
      "text/html": [
       "<div>\n",
       "<table border=\"1\" class=\"dataframe\">\n",
       "  <thead>\n",
       "    <tr style=\"text-align: right;\">\n",
       "      <th></th>\n",
       "      <th>id</th>\n",
       "      <th>identifier</th>\n",
       "      <th>name</th>\n",
       "      <th>name_jp</th>\n",
       "      <th>name_jp_tm</th>\n",
       "      <th>generation_id</th>\n",
       "      <th>color_id</th>\n",
       "    </tr>\n",
       "  </thead>\n",
       "  <tbody>\n",
       "    <tr>\n",
       "      <th>74</th>\n",
       "      <td>75</td>\n",
       "      <td>shell-armor</td>\n",
       "      <td>Shell Armor</td>\n",
       "      <td>シェルアーマー</td>\n",
       "      <td>Shell Armor</td>\n",
       "      <td>3</td>\n",
       "      <td>11</td>\n",
       "    </tr>\n",
       "  </tbody>\n",
       "</table>\n",
       "</div>"
      ],
      "text/plain": [
       "    id   identifier         name  name_jp   name_jp_tm  generation_id  \\\n",
       "74  75  shell-armor  Shell Armor  シェルアーマー  Shell Armor              3   \n",
       "\n",
       "    color_id  \n",
       "74        11  "
      ]
     },
     "execution_count": 39,
     "metadata": {},
     "output_type": "execute_result"
    }
   ],
   "source": [
    "abilities[abilities['id'] == 75]"
   ]
  },
  {
   "cell_type": "markdown",
   "metadata": {},
   "source": [
    "## У 11 покемонов в качестве второй суперспособности выступает панцирь\n",
    "\n",
    "### Посмотрим, какие виды обладают им"
   ]
  },
  {
   "cell_type": "code",
   "execution_count": 40,
   "metadata": {
    "collapsed": false,
    "scrolled": true
   },
   "outputs": [
    {
     "data": {
      "text/plain": [
       "array(['Rock', 'Rock', 'Megaton', 'Magnet', 'Magnet', 'Rock Snake',\n",
       "       'Iron Snake', 'Armor Bird', 'Magnet Area', 'Prototurtle',\n",
       "       'Prototurtle'], dtype=object)"
      ]
     },
     "execution_count": 40,
     "metadata": {},
     "output_type": "execute_result"
    }
   ],
   "source": [
    "pk_ab2_2 = pokemons[pokemons['ability2_id'] == 5]\n",
    "pk_ab2_2.species.values"
   ]
  },
  {
   "cell_type": "markdown",
   "metadata": {},
   "source": [
    "### Уровень счастья снова одинаков"
   ]
  },
  {
   "cell_type": "code",
   "execution_count": 41,
   "metadata": {
    "collapsed": false
   },
   "outputs": [
    {
     "data": {
      "text/plain": [
       "array([70, 70, 70, 70, 70, 70, 70, 70, 70, 70, 70])"
      ]
     },
     "execution_count": 41,
     "metadata": {},
     "output_type": "execute_result"
    }
   ],
   "source": [
    "pk_ab2_2.base_happiness.values"
   ]
  },
  {
   "cell_type": "markdown",
   "metadata": {},
   "source": [
    "### Теперь попытаемся узнать, о чем мечтают покемончики. Совпадают ли их стремления или они хотят быть оригинальными?"
   ]
  },
  {
   "cell_type": "code",
   "execution_count": 42,
   "metadata": {
    "collapsed": false
   },
   "outputs": [
    {
     "name": "stdout",
     "output_type": "stream",
     "text": [
      "0 по индексу строка содержит в себе самую желанную способность.\n",
      "92 покемона не мечтают ни о какой способности.\n"
     ]
    }
   ],
   "source": [
    "#выясняем, какой второй способностью обладает наибольшее количество покемонов\n",
    "grouped_ab_dr = pk.groupby('abilitydream_id')['species'].count()\n",
    "ind_max_ab_dr = list(grouped_ab_dr).index(max(grouped_ab_dr))\n",
    "print(ind_max_ab_dr, 'по индексу строка содержит в себе самую желанную способность.')\n",
    "print(max(grouped_ab_dr), 'покемона не мечтают ни о какой способности.')"
   ]
  },
  {
   "cell_type": "markdown",
   "metadata": {},
   "source": [
    "### 92 в несколько раз меньше, чем 355. Это означает, что даже те покемоны, которые уже являются счастливыми обладателями второй способностью, не отказались бы от новой фичи"
   ]
  },
  {
   "cell_type": "code",
   "execution_count": 43,
   "metadata": {
    "collapsed": false,
    "scrolled": true
   },
   "outputs": [
    {
     "data": {
      "text/plain": [
       "<matplotlib.text.Text at 0x114343ef0>"
      ]
     },
     "execution_count": 43,
     "metadata": {},
     "output_type": "execute_result"
    },
    {
     "data": {
      "image/png": "[encoded data removed]",
      "text/plain": [
       "<matplotlib.figure.Figure at 0x1142c1da0>"
      ]
     },
     "metadata": {},
     "output_type": "display_data"
    }
   ],
   "source": [
    "#в этот раз построим график заранее\n",
    "plt.plot(grouped_ab_dr[1:])\n",
    "plt.xlabel('id способности-мечты ')\n",
    "plt.ylabel('количество покемонов')"
   ]
  },
  {
   "cell_type": "markdown",
   "metadata": {},
   "source": [
    "### Выдвинутая ранее гипотеза об уникальности последних способностей выглядит правдой, потому что на первых двух графиках правая часть уходила вниз, а здесь наоборот взмылась вверх\n",
    "\n",
    "\n",
    "### Найдем глобальный максимум"
   ]
  },
  {
   "cell_type": "code",
   "execution_count": 44,
   "metadata": {
    "collapsed": false
   },
   "outputs": [
    {
     "name": "stdout",
     "output_type": "stream",
     "text": [
      "87 по индексу строка содержит в себе самую желанную способность.\n",
      "17 покемонов мечтают об одной и той же способности.\n"
     ]
    }
   ],
   "source": [
    "ind_max_ab_dr = list(grouped_ab_dr[1:]).index(max(grouped_ab_dr[1:]))\n",
    "print(ind_max_ab_dr, 'по индексу строка содержит в себе самую желанную способность.')\n",
    "print(max(grouped_ab_dr[1:]), 'покемонов мечтают об одной и той же способности.')"
   ]
  },
  {
   "cell_type": "code",
   "execution_count": 45,
   "metadata": {
    "collapsed": false
   },
   "outputs": [
    {
     "data": {
      "text/plain": [
       "abilitydream_id\n",
       "125    17\n",
       "Name: species, dtype: int64"
      ]
     },
     "execution_count": 45,
     "metadata": {},
     "output_type": "execute_result"
    }
   ],
   "source": [
    "grouped_ab_dr[1:][87:88]"
   ]
  },
  {
   "cell_type": "code",
   "execution_count": 46,
   "metadata": {
    "collapsed": false,
    "scrolled": true
   },
   "outputs": [
    {
     "data": {
      "text/html": [
       "<div>\n",
       "<table border=\"1\" class=\"dataframe\">\n",
       "  <thead>\n",
       "    <tr style=\"text-align: right;\">\n",
       "      <th></th>\n",
       "      <th>id</th>\n",
       "      <th>identifier</th>\n",
       "      <th>name</th>\n",
       "      <th>name_jp</th>\n",
       "      <th>name_jp_tm</th>\n",
       "      <th>generation_id</th>\n",
       "      <th>color_id</th>\n",
       "    </tr>\n",
       "  </thead>\n",
       "  <tbody>\n",
       "    <tr>\n",
       "      <th>124</th>\n",
       "      <td>125</td>\n",
       "      <td>sheer-force</td>\n",
       "      <td>Sheer Force</td>\n",
       "      <td>ちからずく</td>\n",
       "      <td>Sheer Force</td>\n",
       "      <td>5</td>\n",
       "      <td>2</td>\n",
       "    </tr>\n",
       "  </tbody>\n",
       "</table>\n",
       "</div>"
      ],
      "text/plain": [
       "      id   identifier         name name_jp   name_jp_tm  generation_id  \\\n",
       "124  125  sheer-force  Sheer Force   ちからずく  Sheer Force              5   \n",
       "\n",
       "     color_id  \n",
       "124         2  "
      ]
     },
     "execution_count": 46,
     "metadata": {},
     "output_type": "execute_result"
    }
   ],
   "source": [
    "abilities[abilities['id'] == 125]"
   ]
  },
  {
   "cell_type": "markdown",
   "metadata": {},
   "source": [
    "## Если верить переводчику, то целых 17 покемонов мечтают об обладании \"грубой силой\", которая позволила бы им легко справляться со своими соперниками\n",
    "\n",
    "### Давайте узнаем, кто уже обладает этой способностью"
   ]
  },
  {
   "cell_type": "code",
   "execution_count": 47,
   "metadata": {
    "collapsed": false,
    "scrolled": true
   },
   "outputs": [
    {
     "data": {
      "text/plain": [
       "array(['Drill', 'Drill', 'River Crab', 'Pincer', 'Wild Bull', 'Big Jaw',\n",
       "       'Big Jaw', 'Big Jaw', 'Iron Snake', 'Guts', 'Arm Thrust',\n",
       "       'Deceiver', 'Ant Pit', 'Rock Head', 'Head Butt', 'Head Butt',\n",
       "       'Abundance'], dtype=object)"
      ]
     },
     "execution_count": 47,
     "metadata": {},
     "output_type": "execute_result"
    }
   ],
   "source": [
    "pk_ab_dr = pokemons[pokemons['abilitydream_id'] == 125]\n",
    "pk_ab_dr.species.values"
   ]
  },
  {
   "cell_type": "markdown",
   "metadata": {},
   "source": [
    "### Найдем самого тяжелого покемона среди обладающих данной способностью"
   ]
  },
  {
   "cell_type": "code",
   "execution_count": 48,
   "metadata": {
    "collapsed": false
   },
   "outputs": [
    {
     "data": {
      "text/plain": [
       "4000"
      ]
     },
     "execution_count": 48,
     "metadata": {},
     "output_type": "execute_result"
    }
   ],
   "source": [
    "weight = pk_ab_dr.weight.values\n",
    "max(weight)"
   ]
  },
  {
   "cell_type": "code",
   "execution_count": 49,
   "metadata": {
    "collapsed": false,
    "scrolled": true
   },
   "outputs": [
    {
     "data": {
      "text/html": [
       "<div>\n",
       "<table border=\"1\" class=\"dataframe\">\n",
       "  <thead>\n",
       "    <tr style=\"text-align: right;\">\n",
       "      <th></th>\n",
       "      <th>id</th>\n",
       "      <th>identifier</th>\n",
       "      <th>name</th>\n",
       "      <th>name_phonetic</th>\n",
       "      <th>species</th>\n",
       "      <th>name_jp</th>\n",
       "      <th>name_jp_romaji</th>\n",
       "      <th>species_jp</th>\n",
       "      <th>generation_id</th>\n",
       "      <th>ndex</th>\n",
       "      <th>...</th>\n",
       "      <th>exp_yield</th>\n",
       "      <th>base_happiness</th>\n",
       "      <th>egg_group1_id</th>\n",
       "      <th>egg_group2_id</th>\n",
       "      <th>is_baby</th>\n",
       "      <th>baby_breed_item_id</th>\n",
       "      <th>hatch_counter</th>\n",
       "      <th>lvl_100_exp</th>\n",
       "      <th>pokemon_order</th>\n",
       "      <th>legacy_id</th>\n",
       "    </tr>\n",
       "  </thead>\n",
       "  <tbody>\n",
       "    <tr>\n",
       "      <th>207</th>\n",
       "      <td>208</td>\n",
       "      <td>steelix</td>\n",
       "      <td>Steelix</td>\n",
       "      <td>Steelix</td>\n",
       "      <td>Iron Snake</td>\n",
       "      <td>ハガネール</td>\n",
       "      <td>Haganeil</td>\n",
       "      <td>てつへび</td>\n",
       "      <td>2</td>\n",
       "      <td>208</td>\n",
       "      <td>...</td>\n",
       "      <td>196</td>\n",
       "      <td>70</td>\n",
       "      <td>10</td>\n",
       "      <td>NaN</td>\n",
       "      <td>0</td>\n",
       "      <td>NaN</td>\n",
       "      <td>25</td>\n",
       "      <td>1000000</td>\n",
       "      <td>104</td>\n",
       "      <td>208.0</td>\n",
       "    </tr>\n",
       "  </tbody>\n",
       "</table>\n",
       "<p>1 rows × 38 columns</p>\n",
       "</div>"
      ],
      "text/plain": [
       "      id identifier     name name_phonetic     species name_jp name_jp_romaji  \\\n",
       "207  208    steelix  Steelix       Steelix  Iron Snake   ハガネール       Haganeil   \n",
       "\n",
       "    species_jp  generation_id  ndex    ...      exp_yield  base_happiness  \\\n",
       "207       てつへび              2   208    ...            196              70   \n",
       "\n",
       "     egg_group1_id  egg_group2_id  is_baby  baby_breed_item_id  hatch_counter  \\\n",
       "207             10            NaN        0                 NaN             25   \n",
       "\n",
       "     lvl_100_exp  pokemon_order  legacy_id  \n",
       "207      1000000            104      208.0  \n",
       "\n",
       "[1 rows x 38 columns]"
      ]
     },
     "execution_count": 49,
     "metadata": {},
     "output_type": "execute_result"
    }
   ],
   "source": [
    "pk_ab_dr[pk_ab_dr.weight == 4000]"
   ]
  },
  {
   "cell_type": "markdown",
   "metadata": {},
   "source": [
    "### А теперь самого большого"
   ]
  },
  {
   "cell_type": "code",
   "execution_count": 50,
   "metadata": {
    "collapsed": false
   },
   "outputs": [
    {
     "data": {
      "text/plain": [
       "92"
      ]
     },
     "execution_count": 50,
     "metadata": {},
     "output_type": "execute_result"
    }
   ],
   "source": [
    "height = pk_ab_dr.height.values\n",
    "max(height)"
   ]
  },
  {
   "cell_type": "code",
   "execution_count": 51,
   "metadata": {
    "collapsed": false
   },
   "outputs": [
    {
     "data": {
      "text/html": [
       "<div>\n",
       "<table border=\"1\" class=\"dataframe\">\n",
       "  <thead>\n",
       "    <tr style=\"text-align: right;\">\n",
       "      <th></th>\n",
       "      <th>id</th>\n",
       "      <th>identifier</th>\n",
       "      <th>name</th>\n",
       "      <th>name_phonetic</th>\n",
       "      <th>species</th>\n",
       "      <th>name_jp</th>\n",
       "      <th>name_jp_romaji</th>\n",
       "      <th>species_jp</th>\n",
       "      <th>generation_id</th>\n",
       "      <th>ndex</th>\n",
       "      <th>...</th>\n",
       "      <th>exp_yield</th>\n",
       "      <th>base_happiness</th>\n",
       "      <th>egg_group1_id</th>\n",
       "      <th>egg_group2_id</th>\n",
       "      <th>is_baby</th>\n",
       "      <th>baby_breed_item_id</th>\n",
       "      <th>hatch_counter</th>\n",
       "      <th>lvl_100_exp</th>\n",
       "      <th>pokemon_order</th>\n",
       "      <th>legacy_id</th>\n",
       "    </tr>\n",
       "  </thead>\n",
       "  <tbody>\n",
       "    <tr>\n",
       "      <th>207</th>\n",
       "      <td>208</td>\n",
       "      <td>steelix</td>\n",
       "      <td>Steelix</td>\n",
       "      <td>Steelix</td>\n",
       "      <td>Iron Snake</td>\n",
       "      <td>ハガネール</td>\n",
       "      <td>Haganeil</td>\n",
       "      <td>てつへび</td>\n",
       "      <td>2</td>\n",
       "      <td>208</td>\n",
       "      <td>...</td>\n",
       "      <td>196</td>\n",
       "      <td>70</td>\n",
       "      <td>10</td>\n",
       "      <td>NaN</td>\n",
       "      <td>0</td>\n",
       "      <td>NaN</td>\n",
       "      <td>25</td>\n",
       "      <td>1000000</td>\n",
       "      <td>104</td>\n",
       "      <td>208.0</td>\n",
       "    </tr>\n",
       "  </tbody>\n",
       "</table>\n",
       "<p>1 rows × 38 columns</p>\n",
       "</div>"
      ],
      "text/plain": [
       "      id identifier     name name_phonetic     species name_jp name_jp_romaji  \\\n",
       "207  208    steelix  Steelix       Steelix  Iron Snake   ハガネール       Haganeil   \n",
       "\n",
       "    species_jp  generation_id  ndex    ...      exp_yield  base_happiness  \\\n",
       "207       てつへび              2   208    ...            196              70   \n",
       "\n",
       "     egg_group1_id  egg_group2_id  is_baby  baby_breed_item_id  hatch_counter  \\\n",
       "207             10            NaN        0                 NaN             25   \n",
       "\n",
       "     lvl_100_exp  pokemon_order  legacy_id  \n",
       "207      1000000            104      208.0  \n",
       "\n",
       "[1 rows x 38 columns]"
      ]
     },
     "execution_count": 51,
     "metadata": {},
     "output_type": "execute_result"
    }
   ],
   "source": [
    "pk_ab_dr[pk_ab_dr.height == 92]"
   ]
  },
  {
   "cell_type": "markdown",
   "metadata": {},
   "source": [
    "### Неудивительно, что это один и тот же покемон. Давайте на него посмотрим\n",
    "\n",
    "\n",
    "\n",
    "# БУ!\n",
    "\n",
    "\n",
    "## Страшно? Еще бы, ведь перед вами Steelix"
   ]
  },
  {
   "cell_type": "markdown",
   "metadata": {},
   "source": [
    "![Image of Yaktocat](https://img.pokemondb.net/artwork/steelix.jpg)"
   ]
  },
  {
   "cell_type": "markdown",
   "metadata": {},
   "source": [
    "#### Ходят легенды, что его тело выглядит так из-за большого содержания стали в съеденной почве глубоко под землей. Я посмотрела видосик с ним, выглядит очень мощно."
   ]
  },
  {
   "cell_type": "markdown",
   "metadata": {},
   "source": [
    "## Ну, раз уж мы заговорили о размерах... Давайте посмотрим, какими они вообще бывают"
   ]
  },
  {
   "cell_type": "code",
   "execution_count": 60,
   "metadata": {
    "collapsed": false
   },
   "outputs": [
    {
     "data": {
      "text/plain": [
       "<matplotlib.text.Text at 0x114baa2e8>"
      ]
     },
     "execution_count": 60,
     "metadata": {},
     "output_type": "execute_result"
    },
    {
     "data": {
      "image/png": "[encoded data removed]",
      "text/plain": [
       "<matplotlib.figure.Figure at 0x114b77b00>"
      ]
     },
     "metadata": {},
     "output_type": "display_data"
    }
   ],
   "source": [
    "plt.scatter(pokemons['height'], pokemons['weight'])\n",
    "plt.xlabel('Рост')\n",
    "plt.ylabel('Вес')"
   ]
  },
  {
   "cell_type": "markdown",
   "metadata": {},
   "source": [
    "### Видно, что параметры покемонов находятся в каких-то пределах: рост редко превышает 20, а вес в основном находится в пределах 2-3 тысяч\n",
    "#### Но Steelix совсем не самый высокий или тяжелый. Кто же, если не он?"
   ]
  },
  {
   "cell_type": "code",
   "execution_count": 67,
   "metadata": {
    "collapsed": false
   },
   "outputs": [
    {
     "data": {
      "text/html": [
       "<div>\n",
       "<table border=\"1\" class=\"dataframe\">\n",
       "  <thead>\n",
       "    <tr style=\"text-align: right;\">\n",
       "      <th></th>\n",
       "      <th>id</th>\n",
       "      <th>identifier</th>\n",
       "      <th>name</th>\n",
       "      <th>name_phonetic</th>\n",
       "      <th>species</th>\n",
       "      <th>name_jp</th>\n",
       "      <th>name_jp_romaji</th>\n",
       "      <th>species_jp</th>\n",
       "      <th>generation_id</th>\n",
       "      <th>ndex</th>\n",
       "      <th>...</th>\n",
       "      <th>exp_yield</th>\n",
       "      <th>base_happiness</th>\n",
       "      <th>egg_group1_id</th>\n",
       "      <th>egg_group2_id</th>\n",
       "      <th>is_baby</th>\n",
       "      <th>baby_breed_item_id</th>\n",
       "      <th>hatch_counter</th>\n",
       "      <th>lvl_100_exp</th>\n",
       "      <th>pokemon_order</th>\n",
       "      <th>legacy_id</th>\n",
       "    </tr>\n",
       "  </thead>\n",
       "  <tbody>\n",
       "    <tr>\n",
       "      <th>320</th>\n",
       "      <td>321</td>\n",
       "      <td>wailord</td>\n",
       "      <td>Wailord</td>\n",
       "      <td>Wailord</td>\n",
       "      <td>Float Whale</td>\n",
       "      <td>ホエルオー</td>\n",
       "      <td>Whaloh</td>\n",
       "      <td>うきくじら</td>\n",
       "      <td>3</td>\n",
       "      <td>321</td>\n",
       "      <td>...</td>\n",
       "      <td>206</td>\n",
       "      <td>70</td>\n",
       "      <td>5</td>\n",
       "      <td>12.0</td>\n",
       "      <td>0</td>\n",
       "      <td>NaN</td>\n",
       "      <td>40</td>\n",
       "      <td>1640000</td>\n",
       "      <td>348</td>\n",
       "      <td>321.0</td>\n",
       "    </tr>\n",
       "  </tbody>\n",
       "</table>\n",
       "<p>1 rows × 38 columns</p>\n",
       "</div>"
      ],
      "text/plain": [
       "      id identifier     name name_phonetic      species name_jp  \\\n",
       "320  321    wailord  Wailord       Wailord  Float Whale   ホエルオー   \n",
       "\n",
       "    name_jp_romaji species_jp  generation_id  ndex    ...      exp_yield  \\\n",
       "320         Whaloh      うきくじら              3   321    ...            206   \n",
       "\n",
       "     base_happiness  egg_group1_id  egg_group2_id  is_baby  \\\n",
       "320              70              5           12.0        0   \n",
       "\n",
       "     baby_breed_item_id  hatch_counter  lvl_100_exp  pokemon_order  legacy_id  \n",
       "320                 NaN             40      1640000            348      321.0  \n",
       "\n",
       "[1 rows x 38 columns]"
      ]
     },
     "execution_count": 67,
     "metadata": {},
     "output_type": "execute_result"
    }
   ],
   "source": [
    "pokemons[pokemons.height > 140]"
   ]
  },
  {
   "cell_type": "markdown",
   "metadata": {},
   "source": [
    "### Самый высокий покемон - Wailord. И это... Кит. Ничего удивительного в его росте"
   ]
  },
  {
   "cell_type": "markdown",
   "metadata": {},
   "source": [
    "![Image of Yaktocat](https://img.pokemondb.net/artwork/wailord.jpg)"
   ]
  },
  {
   "cell_type": "markdown",
   "metadata": {},
   "source": [
    "### Wailord любит солнышко и брызгаться. NYA"
   ]
  },
  {
   "cell_type": "code",
   "execution_count": 68,
   "metadata": {
    "collapsed": false
   },
   "outputs": [
    {
     "data": {
      "text/html": [
       "<div>\n",
       "<table border=\"1\" class=\"dataframe\">\n",
       "  <thead>\n",
       "    <tr style=\"text-align: right;\">\n",
       "      <th></th>\n",
       "      <th>id</th>\n",
       "      <th>identifier</th>\n",
       "      <th>name</th>\n",
       "      <th>name_phonetic</th>\n",
       "      <th>species</th>\n",
       "      <th>name_jp</th>\n",
       "      <th>name_jp_romaji</th>\n",
       "      <th>species_jp</th>\n",
       "      <th>generation_id</th>\n",
       "      <th>ndex</th>\n",
       "      <th>...</th>\n",
       "      <th>exp_yield</th>\n",
       "      <th>base_happiness</th>\n",
       "      <th>egg_group1_id</th>\n",
       "      <th>egg_group2_id</th>\n",
       "      <th>is_baby</th>\n",
       "      <th>baby_breed_item_id</th>\n",
       "      <th>hatch_counter</th>\n",
       "      <th>lvl_100_exp</th>\n",
       "      <th>pokemon_order</th>\n",
       "      <th>legacy_id</th>\n",
       "    </tr>\n",
       "  </thead>\n",
       "  <tbody>\n",
       "    <tr>\n",
       "      <th>382</th>\n",
       "      <td>383</td>\n",
       "      <td>groudon</td>\n",
       "      <td>Groudon</td>\n",
       "      <td>Groudon</td>\n",
       "      <td>Continent</td>\n",
       "      <td>グラードン</td>\n",
       "      <td>Groudon</td>\n",
       "      <td>たいりく</td>\n",
       "      <td>3</td>\n",
       "      <td>383</td>\n",
       "      <td>...</td>\n",
       "      <td>218</td>\n",
       "      <td>0</td>\n",
       "      <td>15</td>\n",
       "      <td>NaN</td>\n",
       "      <td>0</td>\n",
       "      <td>NaN</td>\n",
       "      <td>120</td>\n",
       "      <td>1250000</td>\n",
       "      <td>415</td>\n",
       "      <td>383.0</td>\n",
       "    </tr>\n",
       "  </tbody>\n",
       "</table>\n",
       "<p>1 rows × 38 columns</p>\n",
       "</div>"
      ],
      "text/plain": [
       "      id identifier     name name_phonetic    species name_jp name_jp_romaji  \\\n",
       "382  383    groudon  Groudon       Groudon  Continent   グラードン        Groudon   \n",
       "\n",
       "    species_jp  generation_id  ndex    ...      exp_yield  base_happiness  \\\n",
       "382       たいりく              3   383    ...            218               0   \n",
       "\n",
       "     egg_group1_id  egg_group2_id  is_baby  baby_breed_item_id  hatch_counter  \\\n",
       "382             15            NaN        0                 NaN            120   \n",
       "\n",
       "     lvl_100_exp  pokemon_order  legacy_id  \n",
       "382      1250000            415      383.0  \n",
       "\n",
       "[1 rows x 38 columns]"
      ]
     },
     "execution_count": 68,
     "metadata": {},
     "output_type": "execute_result"
    }
   ],
   "source": [
    "pokemons[pokemons.weight > 8000]"
   ]
  },
  {
   "cell_type": "markdown",
   "metadata": {},
   "source": [
    "### Самым тяжелым был признан Groudon. Посмотрим на него!"
   ]
  },
  {
   "cell_type": "markdown",
   "metadata": {},
   "source": [
    "![Image of Yaktocat](https://img.pokemondb.net/artwork/groudon.jpg)"
   ]
  },
  {
   "cell_type": "markdown",
   "metadata": {},
   "source": [
    "### Спит в магме под землей. Это все, что вам нужно знать.\n",
    "\n",
    "## Предлагаю обратиться к ящикам-с-усами и оценить разброс значений роста и веса в зависимости от поколений"
   ]
  },
  {
   "cell_type": "code",
   "execution_count": 54,
   "metadata": {
    "collapsed": false
   },
   "outputs": [
    {
     "data": {
      "text/plain": [
       "<matplotlib.axes._subplots.AxesSubplot at 0x114616d68>"
      ]
     },
     "execution_count": 54,
     "metadata": {},
     "output_type": "execute_result"
    },
    {
     "data": {
      "image/png": "[encoded data removed]",
      "text/plain": [
       "<matplotlib.figure.Figure at 0x114440be0>"
      ]
     },
     "metadata": {},
     "output_type": "display_data"
    }
   ],
   "source": [
    "sns.boxplot(pokemons['generation_id'], pokemons['weight'])"
   ]
  },
  {
   "cell_type": "code",
   "execution_count": 55,
   "metadata": {
    "collapsed": false
   },
   "outputs": [
    {
     "data": {
      "text/plain": [
       "<matplotlib.axes._subplots.AxesSubplot at 0x1147d9048>"
      ]
     },
     "execution_count": 55,
     "metadata": {},
     "output_type": "execute_result"
    },
    {
     "data": {
      "image/png": "[encoded data removed]",
      "text/plain": [
       "<matplotlib.figure.Figure at 0x113f32550>"
      ]
     },
     "metadata": {},
     "output_type": "display_data"
    }
   ],
   "source": [
    "sns.boxplot(pokemons['generation_id'], pokemons['height'])"
   ]
  },
  {
   "cell_type": "markdown",
   "metadata": {
    "collapsed": false
   },
   "source": [
    "### Выбросы есть во всех поколениях, поэтому давайте временно избавимся от них "
   ]
  },
  {
   "cell_type": "code",
   "execution_count": 79,
   "metadata": {
    "collapsed": true
   },
   "outputs": [],
   "source": [
    "poks_not_heavy = pokemons[pokemons['weight']<1300]\n",
    "poks_not_high = pokemons[pokemons['height']<30]"
   ]
  },
  {
   "cell_type": "code",
   "execution_count": 80,
   "metadata": {
    "collapsed": false
   },
   "outputs": [
    {
     "data": {
      "text/plain": [
       "<matplotlib.axes._subplots.AxesSubplot at 0x1159fe630>"
      ]
     },
     "execution_count": 80,
     "metadata": {},
     "output_type": "execute_result"
    },
    {
     "data": {
      "image/png": "[encoded data removed]",
      "text/plain": [
       "<matplotlib.figure.Figure at 0x1158490b8>"
      ]
     },
     "metadata": {},
     "output_type": "display_data"
    }
   ],
   "source": [
    "sns.boxplot(pokemons['generation_id'], poks_not_heavy.weight)"
   ]
  },
  {
   "cell_type": "code",
   "execution_count": 74,
   "metadata": {
    "collapsed": false
   },
   "outputs": [
    {
     "data": {
      "text/plain": [
       "<matplotlib.axes._subplots.AxesSubplot at 0x1153db048>"
      ]
     },
     "execution_count": 74,
     "metadata": {},
     "output_type": "execute_result"
    },
    {
     "data": {
      "image/png": "[encoded data removed]",
      "text/plain": [
       "<matplotlib.figure.Figure at 0x11531f630>"
      ]
     },
     "metadata": {},
     "output_type": "display_data"
    }
   ],
   "source": [
    "sns.boxplot(pokemons['generation_id'], poks_not_high.height)"
   ]
  },
  {
   "cell_type": "markdown",
   "metadata": {},
   "source": [
    "#### Даже в таком удобном виде нетрудно заметить, что поколение не особо влияет на рост и вес покемона"
   ]
  },
  {
   "cell_type": "markdown",
   "metadata": {},
   "source": [
    "Гугл подсказал, что в этом нет ничего удивительного. Поколение покемонов - не то, что мы привыкли считать поколением. Это не покебабушки и покевнуки и даже не эволюционирование в новый покевид.\n",
    "Поколение I (иногда, называется цветное поколение) - первый набор игр по вселенной Покемон и, соответственно, все покемоны из этих игр. Всего в первом поколении 151 покемон."
   ]
  },
  {
   "cell_type": "markdown",
   "metadata": {},
   "source": [
    "# Спасибо за внимание. Надеюсь, было интересно :)"
   ]
  }
 ],
 "metadata": {
  "kernelspec": {
   "display_name": "Python 3",
   "language": "python",
   "name": "python3"
  },
  "language_info": {
   "codemirror_mode": {
    "name": "ipython",
    "version": 3
   },
   "file_extension": ".py",
   "mimetype": "text/x-python",
   "name": "python",
   "nbconvert_exporter": "python",
   "pygments_lexer": "ipython3",
   "version": "3.6.0"
  }
 },
 "nbformat": 4,
 "nbformat_minor": 2
}
