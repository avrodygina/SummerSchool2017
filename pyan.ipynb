{
 "cells": [
  {
   "cell_type": "code",
   "execution_count": 1,
   "metadata": {
    "collapsed": true
   },
   "outputs": [],
   "source": [
    "from matplotlib import pyplot as plt\n",
    "%matplotlib inline"
   ]
  },
  {
   "cell_type": "markdown",
   "metadata": {},
   "source": [
    "### Задаем глобальные переменные"
   ]
  },
  {
   "cell_type": "code",
   "execution_count": 2,
   "metadata": {
    "collapsed": false
   },
   "outputs": [],
   "source": [
    "N = 5\n",
    "d = 2\n",
    "p_back = 1.0/3\n",
    "probArr = [0]*(N+2+1)\n",
    "probArr[d] = 1"
   ]
  },
  {
   "cell_type": "markdown",
   "metadata": {},
   "source": [
    "Пояснения\n",
    "\n",
    "probArr - массив, показывающий вероятность нахождения пьяницы на каждом расстоянии от обрыва, probArr[0] - упал, заполняем нулями\n",
    "\n",
    "probArr[d] - равен единице, так как сначала пьяница точно находится в 2 шагах от обрыва\n",
    "\n",
    "Кстати! Attention! Я до последнего ищу вероятности летального исхода, а не выживания"
   ]
  },
  {
   "cell_type": "markdown",
   "metadata": {},
   "source": [
    "### Собственно, сама функция\n",
    "\n",
    "#### Правда она возвращает массив, а не число, но сорре"
   ]
  },
  {
   "cell_type": "code",
   "execution_count": 3,
   "metadata": {
    "collapsed": true
   },
   "outputs": [],
   "source": [
    "def pyan(probArr, pBack, steps, distance):\n",
    "    #новый массив, в который будем расчитывать новые вероятности, инициализируем нулями\n",
    "    arrNew = [0]*(steps + distance + 1)\n",
    "    arrNew[0] = probArr[0]\n",
    "    \n",
    "    pForward = 1-pBack  #вероятность пойти вперед\n",
    "    \n",
    "    for i in range(0, len(probArr)):\n",
    "        #обновляем текущий массив с учетом в-ти движения вперед\n",
    "        if i > 1:  #i > 1, т.к. из обрыва вперед пути нет\n",
    "            arrNew[i] = arrNew[i]  +  probArr[i-1]*pForward\n",
    "            \n",
    "        #обновляем текущий массив с учетом вероятности движения назад, \n",
    "        #i < len(probArr)-1, чтобы не адресоваться к несуществующему индексу\n",
    "        if i < len(probArr)-1:\n",
    "            arrNew[i] = arrNew[i]  +  probArr[i+1]*pBack\n",
    "            \n",
    "    return arrNew"
   ]
  },
  {
   "cell_type": "markdown",
   "metadata": {},
   "source": [
    "### Вероятность выжить на 5 шаге"
   ]
  },
  {
   "cell_type": "code",
   "execution_count": 4,
   "metadata": {
    "collapsed": false
   },
   "outputs": [
    {
     "name": "stdout",
     "output_type": "stream",
     "text": [
      "0.8395061728395061\n"
     ]
    }
   ],
   "source": [
    "for i in range(1,N):\n",
    "    probArr = pyan(probArr, p_back, N, d)\n",
    "print(1 - probArr[0])"
   ]
  },
  {
   "cell_type": "markdown",
   "metadata": {},
   "source": [
    "### Давайте создадим ван мор массивчик"
   ]
  },
  {
   "cell_type": "code",
   "execution_count": 5,
   "metadata": {
    "collapsed": false
   },
   "outputs": [],
   "source": [
    "varray = [] #массив для визуализации\n",
    "N = 100\n",
    "probArr = [0]*(N+2+1) \n",
    "probArr[d] = 1\n",
    "\n",
    "for i in range(0,N):\n",
    "    probArr = pyan(probArr, p_back, N, d)\n",
    "    varray.append(1 - probArr[0])"
   ]
  },
  {
   "cell_type": "markdown",
   "metadata": {},
   "source": [
    "### Вероятность выжить на 5 шаге другим способом"
   ]
  },
  {
   "cell_type": "code",
   "execution_count": 6,
   "metadata": {
    "collapsed": false,
    "scrolled": true
   },
   "outputs": [
    {
     "data": {
      "text/plain": [
       "0.8395061728395061"
      ]
     },
     "execution_count": 6,
     "metadata": {},
     "output_type": "execute_result"
    }
   ],
   "source": [
    "varray[4]"
   ]
  },
  {
   "cell_type": "markdown",
   "metadata": {},
   "source": [
    "### Рисуем график"
   ]
  },
  {
   "cell_type": "code",
   "execution_count": 7,
   "metadata": {
    "collapsed": false
   },
   "outputs": [
    {
     "data": {
      "image/png": "[encoded data removed]",
      "text/plain": [
       "<matplotlib.figure.Figure at 0x108ef8b70>"
      ]
     },
     "metadata": {},
     "output_type": "display_data"
    }
   ],
   "source": [
    "plt.plot(varray)\n",
    "plt.ylabel('Шанс выжить')\n",
    "plt.xlabel('Число шагов')\n",
    "plt.show()"
   ]
  }
 ],
 "metadata": {
  "kernelspec": {
   "display_name": "Python 3",
   "language": "python",
   "name": "python3"
  },
  "language_info": {
   "codemirror_mode": {
    "name": "ipython",
    "version": 3
   },
   "file_extension": ".py",
   "mimetype": "text/x-python",
   "name": "python",
   "nbconvert_exporter": "python",
   "pygments_lexer": "ipython3",
   "version": "3.6.0"
  }
 },
 "nbformat": 4,
 "nbformat_minor": 2
}
